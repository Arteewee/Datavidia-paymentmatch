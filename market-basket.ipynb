{
 "cells": [
  {
   "cell_type": "code",
   "execution_count": 1,
   "metadata": {
    "execution": {
     "iopub.execute_input": "2020-11-29T00:56:29.258639Z",
     "iopub.status.busy": "2020-11-29T00:56:29.257881Z",
     "iopub.status.idle": "2020-11-29T00:56:29.260269Z",
     "shell.execute_reply": "2020-11-29T00:56:29.260776Z"
    },
    "papermill": {
     "duration": 0.017954,
     "end_time": "2020-11-29T00:56:29.260954",
     "exception": false,
     "start_time": "2020-11-29T00:56:29.243000",
     "status": "completed"
    },
    "tags": []
   },
   "outputs": [],
   "source": [
    "import pandas as pd\n",
    "from math import floor"
   ]
  },
  {
   "cell_type": "code",
   "execution_count": 2,
   "metadata": {
    "execution": {
     "iopub.execute_input": "2020-11-29T00:56:29.282682Z",
     "iopub.status.busy": "2020-11-29T00:56:29.282025Z",
     "iopub.status.idle": "2020-11-29T00:56:29.508810Z",
     "shell.execute_reply": "2020-11-29T00:56:29.508104Z"
    },
    "papermill": {
     "duration": 0.239434,
     "end_time": "2020-11-29T00:56:29.508924",
     "exception": false,
     "start_time": "2020-11-29T00:56:29.269490",
     "status": "completed"
    },
    "tags": []
   },
   "outputs": [],
   "source": [
    "asc = pd.read_csv('../input/market-basket-id-ndsc-2020/association_order.csv')\n",
    "rules = pd.read_csv('../input/market-basket-id-ndsc-2020/rules.csv')"
   ]
  },
  {
   "cell_type": "code",
   "execution_count": 3,
   "metadata": {
    "execution": {
     "iopub.execute_input": "2020-11-29T00:56:29.535961Z",
     "iopub.status.busy": "2020-11-29T00:56:29.535255Z",
     "iopub.status.idle": "2020-11-29T00:56:38.696468Z",
     "shell.execute_reply": "2020-11-29T00:56:38.695672Z"
    },
    "papermill": {
     "duration": 9.181162,
     "end_time": "2020-11-29T00:56:38.696610",
     "exception": false,
     "start_time": "2020-11-29T00:56:29.515448",
     "status": "completed"
    },
    "tags": []
   },
   "outputs": [
    {
     "data": {
      "text/plain": [
       "itemid\n",
       "103572                                         {31347710941008}\n",
       "103580                                         {31338334007720}\n",
       "108696                                         {31372952019978}\n",
       "240094                                         {31380092284102}\n",
       "262532                         {31362741095032, 31379924542443}\n",
       "                                    ...                        \n",
       "7913347922                                     {31379086992486}\n",
       "7913352481                                     {31381524211086}\n",
       "7913353011                                     {31383656670416}\n",
       "7913354218                                     {31383649454865}\n",
       "7913354409    {31384651230530, 31383918929283, 3138366764822...\n",
       "Name: orderid, Length: 239702, dtype: object"
      ]
     },
     "execution_count": 3,
     "metadata": {},
     "output_type": "execute_result"
    }
   ],
   "source": [
    "group_itemid = asc.groupby('itemid')['orderid'].apply(lambda x: set(x))\n",
    "group_itemid"
   ]
  },
  {
   "cell_type": "code",
   "execution_count": 4,
   "metadata": {
    "execution": {
     "iopub.execute_input": "2020-11-29T00:56:38.734073Z",
     "iopub.status.busy": "2020-11-29T00:56:38.729167Z",
     "iopub.status.idle": "2020-11-29T00:56:38.771822Z",
     "shell.execute_reply": "2020-11-29T00:56:38.771122Z"
    },
    "papermill": {
     "duration": 0.06452,
     "end_time": "2020-11-29T00:56:38.771948",
     "exception": false,
     "start_time": "2020-11-29T00:56:38.707428",
     "status": "completed"
    },
    "tags": []
   },
   "outputs": [
    {
     "data": {
      "text/html": [
       "<div>\n",
       "<style scoped>\n",
       "    .dataframe tbody tr th:only-of-type {\n",
       "        vertical-align: middle;\n",
       "    }\n",
       "\n",
       "    .dataframe tbody tr th {\n",
       "        vertical-align: top;\n",
       "    }\n",
       "\n",
       "    .dataframe thead th {\n",
       "        text-align: right;\n",
       "    }\n",
       "</style>\n",
       "<table border=\"1\" class=\"dataframe\">\n",
       "  <thead>\n",
       "    <tr style=\"text-align: right;\">\n",
       "      <th></th>\n",
       "      <th>rule</th>\n",
       "      <th>item</th>\n",
       "    </tr>\n",
       "  </thead>\n",
       "  <tbody>\n",
       "    <tr>\n",
       "      <th>0</th>\n",
       "      <td>100242812&gt;80361758</td>\n",
       "      <td>[[100242812], [80361758]]</td>\n",
       "    </tr>\n",
       "    <tr>\n",
       "      <th>1</th>\n",
       "      <td>100242812&gt;89031406</td>\n",
       "      <td>[[100242812], [89031406]]</td>\n",
       "    </tr>\n",
       "    <tr>\n",
       "      <th>2</th>\n",
       "      <td>1003153762&gt;1016449477</td>\n",
       "      <td>[[1003153762], [1016449477]]</td>\n",
       "    </tr>\n",
       "    <tr>\n",
       "      <th>3</th>\n",
       "      <td>1006024995&gt;2727415265</td>\n",
       "      <td>[[1006024995], [2727415265]]</td>\n",
       "    </tr>\n",
       "    <tr>\n",
       "      <th>4</th>\n",
       "      <td>1006024995&gt;866012366</td>\n",
       "      <td>[[1006024995], [866012366]]</td>\n",
       "    </tr>\n",
       "  </tbody>\n",
       "</table>\n",
       "</div>"
      ],
      "text/plain": [
       "                    rule                          item\n",
       "0     100242812>80361758     [[100242812], [80361758]]\n",
       "1     100242812>89031406     [[100242812], [89031406]]\n",
       "2  1003153762>1016449477  [[1003153762], [1016449477]]\n",
       "3  1006024995>2727415265  [[1006024995], [2727415265]]\n",
       "4   1006024995>866012366   [[1006024995], [866012366]]"
      ]
     },
     "execution_count": 4,
     "metadata": {},
     "output_type": "execute_result"
    }
   ],
   "source": [
    "rules['item'] = rules['rule'].apply(lambda x: [i.split('&') for i in x.split('>')])\n",
    "rules.head()"
   ]
  },
  {
   "cell_type": "code",
   "execution_count": 5,
   "metadata": {
    "execution": {
     "iopub.execute_input": "2020-11-29T00:56:38.959875Z",
     "iopub.status.busy": "2020-11-29T00:56:38.958843Z",
     "iopub.status.idle": "2020-11-29T00:56:38.963139Z",
     "shell.execute_reply": "2020-11-29T00:56:38.962447Z"
    },
    "papermill": {
     "duration": 0.183357,
     "end_time": "2020-11-29T00:56:38.963261",
     "exception": false,
     "start_time": "2020-11-29T00:56:38.779904",
     "status": "completed"
    },
    "tags": []
   },
   "outputs": [],
   "source": [
    "def confidence(data):\n",
    "    awal = set(group_itemid[int(data[0][0])])\n",
    "    if len(data[0]) > 1:\n",
    "        awal = awal.intersection(set(group_itemid[int(data[0][1])]))\n",
    "    akhir = set(awal)\n",
    "    for i in data[1]:\n",
    "        akhir = akhir.intersection(set(group_itemid[int(i)]))\n",
    "    return floor(len(akhir)/len(awal)*1000)"
   ]
  },
  {
   "cell_type": "code",
   "execution_count": 6,
   "metadata": {
    "execution": {
     "iopub.execute_input": "2020-11-29T00:56:38.985252Z",
     "iopub.status.busy": "2020-11-29T00:56:38.984372Z",
     "iopub.status.idle": "2020-11-29T00:56:39.325927Z",
     "shell.execute_reply": "2020-11-29T00:56:39.325057Z"
    },
    "papermill": {
     "duration": 0.354707,
     "end_time": "2020-11-29T00:56:39.326057",
     "exception": false,
     "start_time": "2020-11-29T00:56:38.971350",
     "status": "completed"
    },
    "tags": []
   },
   "outputs": [],
   "source": [
    "rules['confidence'] = rules['item'].apply(confidence)"
   ]
  },
  {
   "cell_type": "code",
   "execution_count": 7,
   "metadata": {
    "execution": {
     "iopub.execute_input": "2020-11-29T00:56:39.356396Z",
     "iopub.status.busy": "2020-11-29T00:56:39.355421Z",
     "iopub.status.idle": "2020-11-29T00:56:39.363910Z",
     "shell.execute_reply": "2020-11-29T00:56:39.363138Z"
    },
    "papermill": {
     "duration": 0.026121,
     "end_time": "2020-11-29T00:56:39.364044",
     "exception": false,
     "start_time": "2020-11-29T00:56:39.337923",
     "status": "completed"
    },
    "tags": []
   },
   "outputs": [],
   "source": [
    "hasil = rules[['rule','confidence']]"
   ]
  },
  {
   "cell_type": "code",
   "execution_count": 8,
   "metadata": {
    "execution": {
     "iopub.execute_input": "2020-11-29T00:56:39.393600Z",
     "iopub.status.busy": "2020-11-29T00:56:39.392966Z",
     "iopub.status.idle": "2020-11-29T00:56:39.745024Z",
     "shell.execute_reply": "2020-11-29T00:56:39.745535Z"
    },
    "papermill": {
     "duration": 0.369527,
     "end_time": "2020-11-29T00:56:39.745682",
     "exception": false,
     "start_time": "2020-11-29T00:56:39.376155",
     "status": "completed"
    },
    "tags": []
   },
   "outputs": [],
   "source": [
    "hasil.to_csv('submission.csv',index=False)"
   ]
  }
 ],
 "metadata": {
  "kernelspec": {
   "display_name": "Python 3",
   "language": "python",
   "name": "python3"
  },
  "language_info": {
   "codemirror_mode": {
    "name": "ipython",
    "version": 3
   },
   "file_extension": ".py",
   "mimetype": "text/x-python",
   "name": "python",
   "nbconvert_exporter": "python",
   "pygments_lexer": "ipython3",
   "version": "3.7.6"
  },
  "papermill": {
   "duration": 16.87563,
   "end_time": "2020-11-29T00:56:39.861970",
   "environment_variables": {},
   "exception": null,
   "input_path": "__notebook__.ipynb",
   "output_path": "__notebook__.ipynb",
   "parameters": {},
   "start_time": "2020-11-29T00:56:22.986340",
   "version": "2.1.0"
  }
 },
 "nbformat": 4,
 "nbformat_minor": 4
}
