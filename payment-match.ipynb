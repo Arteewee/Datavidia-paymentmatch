{
 "cells": [
  {
   "cell_type": "code",
   "execution_count": 1,
   "metadata": {
    "execution": {
     "iopub.execute_input": "2020-11-29T01:10:14.623049Z",
     "iopub.status.busy": "2020-11-29T01:10:14.622331Z",
     "iopub.status.idle": "2020-11-29T01:10:14.626277Z",
     "shell.execute_reply": "2020-11-29T01:10:14.625538Z"
    },
    "papermill": {
     "duration": 0.022238,
     "end_time": "2020-11-29T01:10:14.626405",
     "exception": false,
     "start_time": "2020-11-29T01:10:14.604167",
     "status": "completed"
    },
    "tags": []
   },
   "outputs": [],
   "source": [
    "import numpy as np\n",
    "import pandas as pd"
   ]
  },
  {
   "cell_type": "code",
   "execution_count": 2,
   "metadata": {
    "execution": {
     "iopub.execute_input": "2020-11-29T01:10:14.650128Z",
     "iopub.status.busy": "2020-11-29T01:10:14.649376Z",
     "iopub.status.idle": "2020-11-29T01:10:14.668820Z",
     "shell.execute_reply": "2020-11-29T01:10:14.668050Z"
    },
    "papermill": {
     "duration": 0.032891,
     "end_time": "2020-11-29T01:10:14.668951",
     "exception": false,
     "start_time": "2020-11-29T01:10:14.636060",
     "status": "completed"
    },
    "tags": []
   },
   "outputs": [],
   "source": [
    "from fuzzywuzzy import fuzz\n",
    "from fuzzywuzzy import process"
   ]
  },
  {
   "cell_type": "code",
   "execution_count": 3,
   "metadata": {
    "execution": {
     "iopub.execute_input": "2020-11-29T01:10:14.694014Z",
     "iopub.status.busy": "2020-11-29T01:10:14.693007Z",
     "iopub.status.idle": "2020-11-29T01:10:14.696301Z",
     "shell.execute_reply": "2020-11-29T01:10:14.695695Z"
    },
    "papermill": {
     "duration": 0.018456,
     "end_time": "2020-11-29T01:10:14.696422",
     "exception": false,
     "start_time": "2020-11-29T01:10:14.677966",
     "status": "completed"
    },
    "tags": []
   },
   "outputs": [],
   "source": [
    "def compare_fuzzy(desc,buyer_name):\n",
    "    return fuzz.partial_ratio(desc,buyer_name)"
   ]
  },
  {
   "cell_type": "code",
   "execution_count": 4,
   "metadata": {
    "execution": {
     "iopub.execute_input": "2020-11-29T01:10:14.724168Z",
     "iopub.status.busy": "2020-11-29T01:10:14.723416Z",
     "iopub.status.idle": "2020-11-29T01:10:15.710048Z",
     "shell.execute_reply": "2020-11-29T01:10:15.709238Z"
    },
    "papermill": {
     "duration": 1.004669,
     "end_time": "2020-11-29T01:10:15.710187",
     "exception": false,
     "start_time": "2020-11-29T01:10:14.705518",
     "status": "completed"
    },
    "tags": []
   },
   "outputs": [],
   "source": [
    "bank = pd.read_csv('../input/payment-id-ndsc-2020/bank_statement.csv')\n",
    "checkout = pd.read_csv('../input/payment-id-ndsc-2020/checkout.csv')"
   ]
  },
  {
   "cell_type": "code",
   "execution_count": 5,
   "metadata": {
    "execution": {
     "iopub.execute_input": "2020-11-29T01:10:15.748841Z",
     "iopub.status.busy": "2020-11-29T01:10:15.748131Z",
     "iopub.status.idle": "2020-11-29T01:10:15.760567Z",
     "shell.execute_reply": "2020-11-29T01:10:15.759888Z"
    },
    "papermill": {
     "duration": 0.041096,
     "end_time": "2020-11-29T01:10:15.760688",
     "exception": false,
     "start_time": "2020-11-29T01:10:15.719592",
     "status": "completed"
    },
    "tags": []
   },
   "outputs": [
    {
     "data": {
      "text/html": [
       "<div>\n",
       "<style scoped>\n",
       "    .dataframe tbody tr th:only-of-type {\n",
       "        vertical-align: middle;\n",
       "    }\n",
       "\n",
       "    .dataframe tbody tr th {\n",
       "        vertical-align: top;\n",
       "    }\n",
       "\n",
       "    .dataframe thead th {\n",
       "        text-align: right;\n",
       "    }\n",
       "</style>\n",
       "<table border=\"1\" class=\"dataframe\">\n",
       "  <thead>\n",
       "    <tr style=\"text-align: right;\">\n",
       "      <th></th>\n",
       "      <th>stmt_id</th>\n",
       "      <th>stmt_amount</th>\n",
       "      <th>desc</th>\n",
       "    </tr>\n",
       "  </thead>\n",
       "  <tbody>\n",
       "    <tr>\n",
       "      <th>0</th>\n",
       "      <td>1</td>\n",
       "      <td>100.00</td>\n",
       "      <td>INSTANT TRANSFER    BAW CGANBAWI YIWHI * LEZC ...</td>\n",
       "    </tr>\n",
       "    <tr>\n",
       "      <th>1</th>\n",
       "      <td>2</td>\n",
       "      <td>23.77</td>\n",
       "      <td>WOOG CARIZA NIWSI YO</td>\n",
       "    </tr>\n",
       "    <tr>\n",
       "      <th>2</th>\n",
       "      <td>3</td>\n",
       "      <td>18.00</td>\n",
       "      <td>ZOMAZAW MABIX ATMA *  BUGW * KZBUGW - TRANSFER...</td>\n",
       "    </tr>\n",
       "    <tr>\n",
       "      <th>3</th>\n",
       "      <td>4</td>\n",
       "      <td>21.87</td>\n",
       "      <td>TRANSFER GO LA/FA   AHHA PUYIMA        * YEBF ...</td>\n",
       "    </tr>\n",
       "    <tr>\n",
       "      <th>4</th>\n",
       "      <td>5</td>\n",
       "      <td>53.68</td>\n",
       "      <td>INSTANT TRANSFER    FABZUN WIQAT JIW FA* TEGF ...</td>\n",
       "    </tr>\n",
       "  </tbody>\n",
       "</table>\n",
       "</div>"
      ],
      "text/plain": [
       "   stmt_id  stmt_amount                                               desc\n",
       "0        1       100.00  INSTANT TRANSFER    BAW CGANBAWI YIWHI * LEZC ...\n",
       "1        2        23.77                              WOOG CARIZA NIWSI YO \n",
       "2        3        18.00  ZOMAZAW MABIX ATMA *  BUGW * KZBUGW - TRANSFER...\n",
       "3        4        21.87  TRANSFER GO LA/FA   AHHA PUYIMA        * YEBF ...\n",
       "4        5        53.68  INSTANT TRANSFER    FABZUN WIQAT JIW FA* TEGF ..."
      ]
     },
     "execution_count": 5,
     "metadata": {},
     "output_type": "execute_result"
    }
   ],
   "source": [
    "bank.head()"
   ]
  },
  {
   "cell_type": "code",
   "execution_count": 6,
   "metadata": {
    "execution": {
     "iopub.execute_input": "2020-11-29T01:10:15.801254Z",
     "iopub.status.busy": "2020-11-29T01:10:15.800063Z",
     "iopub.status.idle": "2020-11-29T01:10:15.805378Z",
     "shell.execute_reply": "2020-11-29T01:10:15.804876Z"
    },
    "papermill": {
     "duration": 0.030103,
     "end_time": "2020-11-29T01:10:15.805533",
     "exception": false,
     "start_time": "2020-11-29T01:10:15.775430",
     "status": "completed"
    },
    "tags": []
   },
   "outputs": [
    {
     "data": {
      "text/html": [
       "<div>\n",
       "<style scoped>\n",
       "    .dataframe tbody tr th:only-of-type {\n",
       "        vertical-align: middle;\n",
       "    }\n",
       "\n",
       "    .dataframe tbody tr th {\n",
       "        vertical-align: top;\n",
       "    }\n",
       "\n",
       "    .dataframe thead th {\n",
       "        text-align: right;\n",
       "    }\n",
       "</style>\n",
       "<table border=\"1\" class=\"dataframe\">\n",
       "  <thead>\n",
       "    <tr style=\"text-align: right;\">\n",
       "      <th></th>\n",
       "      <th>ckt_id</th>\n",
       "      <th>ckt_amount</th>\n",
       "      <th>buyer_name</th>\n",
       "    </tr>\n",
       "  </thead>\n",
       "  <tbody>\n",
       "    <tr>\n",
       "      <th>0</th>\n",
       "      <td>1</td>\n",
       "      <td>20.00</td>\n",
       "      <td>SAVMUEJICE EPHOCP</td>\n",
       "    </tr>\n",
       "    <tr>\n",
       "      <th>1</th>\n",
       "      <td>2</td>\n",
       "      <td>14.91</td>\n",
       "      <td>LUHALLAK ZGANFAP HAIQAW VIP LOHK. CIQTI</td>\n",
       "    </tr>\n",
       "    <tr>\n",
       "      <th>2</th>\n",
       "      <td>3</td>\n",
       "      <td>13.20</td>\n",
       "      <td>SUQ UNAISIE</td>\n",
       "    </tr>\n",
       "    <tr>\n",
       "      <th>3</th>\n",
       "      <td>4</td>\n",
       "      <td>36.90</td>\n",
       "      <td>GOZK BIHKAUT LIV LATAPI</td>\n",
       "    </tr>\n",
       "    <tr>\n",
       "      <th>4</th>\n",
       "      <td>7</td>\n",
       "      <td>26.29</td>\n",
       "      <td>HUY ZABIRAN HATIZAN WIHMI IRYIZ</td>\n",
       "    </tr>\n",
       "  </tbody>\n",
       "</table>\n",
       "</div>"
      ],
      "text/plain": [
       "   ckt_id  ckt_amount                               buyer_name\n",
       "0       1       20.00                        SAVMUEJICE EPHOCP\n",
       "1       2       14.91  LUHALLAK ZGANFAP HAIQAW VIP LOHK. CIQTI\n",
       "2       3       13.20                              SUQ UNAISIE\n",
       "3       4       36.90                  GOZK BIHKAUT LIV LATAPI\n",
       "4       7       26.29         HUY ZABIRAN HATIZAN WIHMI IRYIZ "
      ]
     },
     "execution_count": 6,
     "metadata": {},
     "output_type": "execute_result"
    }
   ],
   "source": [
    "checkout.head()"
   ]
  },
  {
   "cell_type": "code",
   "execution_count": 7,
   "metadata": {
    "execution": {
     "iopub.execute_input": "2020-11-29T01:10:15.833294Z",
     "iopub.status.busy": "2020-11-29T01:10:15.832148Z",
     "iopub.status.idle": "2020-11-29T01:10:15.836093Z",
     "shell.execute_reply": "2020-11-29T01:10:15.836942Z"
    },
    "papermill": {
     "duration": 0.020846,
     "end_time": "2020-11-29T01:10:15.837170",
     "exception": false,
     "start_time": "2020-11-29T01:10:15.816324",
     "status": "completed"
    },
    "tags": []
   },
   "outputs": [
    {
     "data": {
      "text/plain": [
       "240000"
      ]
     },
     "execution_count": 7,
     "metadata": {},
     "output_type": "execute_result"
    }
   ],
   "source": [
    "len(checkout)"
   ]
  },
  {
   "cell_type": "code",
   "execution_count": 8,
   "metadata": {
    "execution": {
     "iopub.execute_input": "2020-11-29T01:10:15.872167Z",
     "iopub.status.busy": "2020-11-29T01:10:15.870867Z",
     "iopub.status.idle": "2020-11-29T01:10:15.875518Z",
     "shell.execute_reply": "2020-11-29T01:10:15.874980Z"
    },
    "papermill": {
     "duration": 0.021943,
     "end_time": "2020-11-29T01:10:15.875648",
     "exception": false,
     "start_time": "2020-11-29T01:10:15.853705",
     "status": "completed"
    },
    "tags": []
   },
   "outputs": [
    {
     "data": {
      "text/plain": [
       "240000"
      ]
     },
     "execution_count": 8,
     "metadata": {},
     "output_type": "execute_result"
    }
   ],
   "source": [
    "len(bank)"
   ]
  },
  {
   "cell_type": "code",
   "execution_count": 9,
   "metadata": {
    "execution": {
     "iopub.execute_input": "2020-11-29T01:10:15.906811Z",
     "iopub.status.busy": "2020-11-29T01:10:15.905764Z",
     "iopub.status.idle": "2020-11-29T01:10:15.909346Z",
     "shell.execute_reply": "2020-11-29T01:10:15.908732Z"
    },
    "papermill": {
     "duration": 0.02231,
     "end_time": "2020-11-29T01:10:15.909479",
     "exception": false,
     "start_time": "2020-11-29T01:10:15.887169",
     "status": "completed"
    },
    "tags": []
   },
   "outputs": [],
   "source": [
    "def find_match(stmt_amount, desc):\n",
    "    potential_match = checkout[checkout['ckt_amount']==stmt_amount]\n",
    "    result = []\n",
    "    for ckt_id, buyer_name in zip(potential_match['ckt_id'], potential_match['buyer_name']):\n",
    "        score = compare_fuzzy(desc, buyer_name)\n",
    "        if score > 0:\n",
    "            result.append((ckt_id,score))\n",
    "    return result"
   ]
  },
  {
   "cell_type": "code",
   "execution_count": 10,
   "metadata": {
    "execution": {
     "iopub.execute_input": "2020-11-29T01:10:15.938548Z",
     "iopub.status.busy": "2020-11-29T01:10:15.937832Z",
     "iopub.status.idle": "2020-11-29T01:10:15.941009Z",
     "shell.execute_reply": "2020-11-29T01:10:15.940450Z"
    },
    "papermill": {
     "duration": 0.019961,
     "end_time": "2020-11-29T01:10:15.941124",
     "exception": false,
     "start_time": "2020-11-29T01:10:15.921163",
     "status": "completed"
    },
    "tags": []
   },
   "outputs": [],
   "source": [
    "def get_max(list_of_tuple):\n",
    "    max_score = 0\n",
    "    final_id = -1\n",
    "    for stmt_id, score in list_of_tuple:\n",
    "        if score > max_score:\n",
    "            max_score = score\n",
    "            final_id = stmt_id\n",
    "    return final_id"
   ]
  },
  {
   "cell_type": "code",
   "execution_count": 11,
   "metadata": {
    "execution": {
     "iopub.execute_input": "2020-11-29T01:10:15.969695Z",
     "iopub.status.busy": "2020-11-29T01:10:15.968957Z",
     "iopub.status.idle": "2020-11-29T01:10:15.972541Z",
     "shell.execute_reply": "2020-11-29T01:10:15.971888Z"
    },
    "papermill": {
     "duration": 0.0198,
     "end_time": "2020-11-29T01:10:15.972662",
     "exception": false,
     "start_time": "2020-11-29T01:10:15.952862",
     "status": "completed"
    },
    "tags": []
   },
   "outputs": [],
   "source": [
    "final_result = []"
   ]
  },
  {
   "cell_type": "code",
   "execution_count": 12,
   "metadata": {
    "execution": {
     "iopub.execute_input": "2020-11-29T01:10:16.003157Z",
     "iopub.status.busy": "2020-11-29T01:10:16.002392Z",
     "iopub.status.idle": "2020-11-29T01:29:54.466298Z",
     "shell.execute_reply": "2020-11-29T01:29:54.465481Z"
    },
    "papermill": {
     "duration": 1178.482384,
     "end_time": "2020-11-29T01:29:54.466527",
     "exception": false,
     "start_time": "2020-11-29T01:10:15.984143",
     "status": "completed"
    },
    "tags": []
   },
   "outputs": [],
   "source": [
    "for stmt_id, stmt_amount, desc in zip(bank['stmt_id'], bank['stmt_amount'], bank['desc']):\n",
    "    ckt_id = get_max(find_match(stmt_amount, desc))\n",
    "    final_result.append((stmt_id,ckt_id))"
   ]
  },
  {
   "cell_type": "code",
   "execution_count": 13,
   "metadata": {
    "execution": {
     "iopub.execute_input": "2020-11-29T01:29:54.525654Z",
     "iopub.status.busy": "2020-11-29T01:29:54.509987Z",
     "iopub.status.idle": "2020-11-29T01:29:54.724353Z",
     "shell.execute_reply": "2020-11-29T01:29:54.723682Z"
    },
    "papermill": {
     "duration": 0.245462,
     "end_time": "2020-11-29T01:29:54.724498",
     "exception": false,
     "start_time": "2020-11-29T01:29:54.479036",
     "status": "completed"
    },
    "tags": []
   },
   "outputs": [
    {
     "data": {
      "text/html": [
       "<div>\n",
       "<style scoped>\n",
       "    .dataframe tbody tr th:only-of-type {\n",
       "        vertical-align: middle;\n",
       "    }\n",
       "\n",
       "    .dataframe tbody tr th {\n",
       "        vertical-align: top;\n",
       "    }\n",
       "\n",
       "    .dataframe thead th {\n",
       "        text-align: right;\n",
       "    }\n",
       "</style>\n",
       "<table border=\"1\" class=\"dataframe\">\n",
       "  <thead>\n",
       "    <tr style=\"text-align: right;\">\n",
       "      <th></th>\n",
       "      <th>stmt_id</th>\n",
       "      <th>ckt_id</th>\n",
       "    </tr>\n",
       "  </thead>\n",
       "  <tbody>\n",
       "    <tr>\n",
       "      <th>0</th>\n",
       "      <td>1</td>\n",
       "      <td>37064</td>\n",
       "    </tr>\n",
       "    <tr>\n",
       "      <th>1</th>\n",
       "      <td>2</td>\n",
       "      <td>37067</td>\n",
       "    </tr>\n",
       "    <tr>\n",
       "      <th>2</th>\n",
       "      <td>3</td>\n",
       "      <td>214638</td>\n",
       "    </tr>\n",
       "    <tr>\n",
       "      <th>3</th>\n",
       "      <td>4</td>\n",
       "      <td>137482</td>\n",
       "    </tr>\n",
       "    <tr>\n",
       "      <th>4</th>\n",
       "      <td>5</td>\n",
       "      <td>95564</td>\n",
       "    </tr>\n",
       "  </tbody>\n",
       "</table>\n",
       "</div>"
      ],
      "text/plain": [
       "   stmt_id  ckt_id\n",
       "0        1   37064\n",
       "1        2   37067\n",
       "2        3  214638\n",
       "3        4  137482\n",
       "4        5   95564"
      ]
     },
     "execution_count": 13,
     "metadata": {},
     "output_type": "execute_result"
    }
   ],
   "source": [
    "stmt_id = [a for a,b in final_result]\n",
    "ckt_id = [b for a,b in final_result]\n",
    "df = pd.DataFrame({'stmt_id':stmt_id, 'ckt_id': ckt_id})\n",
    "df.head()"
   ]
  },
  {
   "cell_type": "code",
   "execution_count": 14,
   "metadata": {
    "execution": {
     "iopub.execute_input": "2020-11-29T01:29:54.754030Z",
     "iopub.status.busy": "2020-11-29T01:29:54.753298Z",
     "iopub.status.idle": "2020-11-29T01:29:55.452891Z",
     "shell.execute_reply": "2020-11-29T01:29:55.452163Z"
    },
    "papermill": {
     "duration": 0.716256,
     "end_time": "2020-11-29T01:29:55.453021",
     "exception": false,
     "start_time": "2020-11-29T01:29:54.736765",
     "status": "completed"
    },
    "tags": []
   },
   "outputs": [],
   "source": [
    "df.to_csv('hasil_akhir.csv', index=False)"
   ]
  },
  {
   "cell_type": "code",
   "execution_count": null,
   "metadata": {
    "papermill": {
     "duration": 0.011647,
     "end_time": "2020-11-29T01:29:55.477043",
     "exception": false,
     "start_time": "2020-11-29T01:29:55.465396",
     "status": "completed"
    },
    "tags": []
   },
   "outputs": [],
   "source": []
  }
 ],
 "metadata": {
  "kernelspec": {
   "display_name": "Python 3",
   "language": "python",
   "name": "python3"
  },
  "language_info": {
   "codemirror_mode": {
    "name": "ipython",
    "version": 3
   },
   "file_extension": ".py",
   "mimetype": "text/x-python",
   "name": "python",
   "nbconvert_exporter": "python",
   "pygments_lexer": "ipython3",
   "version": "3.7.6"
  },
  "papermill": {
   "duration": 1186.085491,
   "end_time": "2020-11-29T01:29:55.597510",
   "environment_variables": {},
   "exception": null,
   "input_path": "__notebook__.ipynb",
   "output_path": "__notebook__.ipynb",
   "parameters": {},
   "start_time": "2020-11-29T01:10:09.512019",
   "version": "2.1.0"
  }
 },
 "nbformat": 4,
 "nbformat_minor": 4
}
